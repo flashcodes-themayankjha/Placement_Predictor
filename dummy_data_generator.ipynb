{
 "cells": [
  {
   "cell_type": "code",
   "execution_count": 3,
   "id": "1c220f5c-2963-476e-ac1b-88d3e52cf95d",
   "metadata": {},
   "outputs": [
    {
     "data": {
      "text/plain": [
       "'student_placement_data.csv'"
      ]
     },
     "execution_count": 3,
     "metadata": {},
     "output_type": "execute_result"
    }
   ],
   "source": [
    "import pandas as pd\n",
    "import numpy as np\n",
    "\n",
    "# Setting seed for reproducibility\n",
    "np.random.seed(42)\n",
    "\n",
    "# Generating dummy data\n",
    "num_students = 500\n",
    "\n",
    "cgpa = np.round(np.random.uniform(5.0, 10.0, num_students), 2)  # CGPA between 5.0 and 10.0\n",
    "iq = np.random.randint(80, 160, num_students)  # IQ between 80 and 160\n",
    "profile_score = np.round(np.random.uniform(0, 100, num_students), 2)  # Profile score between 0 and 100\n",
    "\n",
    "# Placement (1 for placed, 0 for not placed) based on some probability function\n",
    "prob_placement = (cgpa / 10) * 0.5 + (iq / 160) * 0.3 + (profile_score / 100) * 0.2\n",
    "placement = np.random.binomial(1, prob_placement)\n",
    "\n",
    "# Creating DataFrame\n",
    "df = pd.DataFrame({\n",
    "    \"CGPA\": cgpa,\n",
    "    \"IQ\": iq,\n",
    "    \"Profile_Score\": profile_score,\n",
    "    \"Placement\": placement\n",
    "})\n",
    "\n",
    "# Display first few rows\n",
    "df.head()\n",
    "\n",
    "# Saving the dataset to a CSV file\n",
    "file_path = \"student_placement_data.csv\"\n",
    "df.to_csv(file_path, index=False)\n",
    "\n",
    "# Returning the file path for download\n",
    "file_path\n"
   ]
  }
 ],
 "metadata": {
  "kernelspec": {
   "display_name": "Python 3 (ipykernel)",
   "language": "python",
   "name": "python3"
  },
  "language_info": {
   "codemirror_mode": {
    "name": "ipython",
    "version": 3
   },
   "file_extension": ".py",
   "mimetype": "text/x-python",
   "name": "python",
   "nbconvert_exporter": "python",
   "pygments_lexer": "ipython3",
   "version": "3.12.4"
  }
 },
 "nbformat": 4,
 "nbformat_minor": 5
}
